{
 "metadata": {
  "language_info": {
   "codemirror_mode": {
    "name": "ipython",
    "version": 3
   },
   "file_extension": ".py",
   "mimetype": "text/x-python",
   "name": "python",
   "nbconvert_exporter": "python",
   "pygments_lexer": "ipython3",
   "version": "3.7.4-final"
  },
  "orig_nbformat": 2,
  "kernelspec": {
   "name": "python_defaultSpec_1607480823331",
   "display_name": "Python 3.7.4 64-bit ('base': conda)"
  }
 },
 "nbformat": 4,
 "nbformat_minor": 2,
 "cells": [
  {
   "cell_type": "code",
   "execution_count": 3,
   "metadata": {
    "tags": []
   },
   "outputs": [],
   "source": [
    "import tensorflow as tf\n",
    "from tensorflow import keras\n",
    "\n",
    "(x_train, y_train), (x_val, y_val) = keras.datasets.fashion_mnist.load_data()"
   ]
  },
  {
   "cell_type": "code",
   "execution_count": 4,
   "metadata": {},
   "outputs": [],
   "source": [
    "def preprocess(x,y):\n",
    "    x = tf.cast(x, tf.float32) / 255.0\n",
    "    y = tf.cast(y, tf.int64)\n",
    "\n",
    "    return x,y\n",
    "\n",
    "def create_dataset(xs, ys, n_classes=10):\n",
    "    ys = tf.one_hot(ys, depth=n_classes)\n",
    "\n",
    "    return tf.data.Dataset.from_tensor_slices((xs,ys)) \\\n",
    "        .map(preprocess) \\\n",
    "        .shuffle(len(ys)) \\\n",
    "        .batch(128)"
   ]
  },
  {
   "cell_type": "code",
   "execution_count": 5,
   "metadata": {},
   "outputs": [],
   "source": [
    "train_ds = create_dataset(x_train,y_train)\n",
    "val_ds = create_dataset(x_val, y_val)\n"
   ]
  },
  {
   "cell_type": "code",
   "execution_count": 11,
   "metadata": {},
   "outputs": [],
   "source": [
    "model = keras.Sequential([\n",
    "    keras.layers.Reshape(\n",
    "        target_shape=(28 * 28,), input_shape=(28,28)\n",
    "    ),\n",
    "    keras.layers.Dense(\n",
    "        units=256, activation='relu'\n",
    "    ),\n",
    "    keras.layers.Dense(\n",
    "        units=192, activation='relu'\n",
    "    ),\n",
    "    keras.layers.Dense(\n",
    "        units=128, activation='relu'\n",
    "    ),\n",
    "    keras.layers.Dense(\n",
    "        units=10, activation='softmax'\n",
    "    )\n",
    "])"
   ]
  },
  {
   "cell_type": "code",
   "execution_count": 12,
   "metadata": {
    "tags": []
   },
   "outputs": [
    {
     "output_type": "stream",
     "name": "stdout",
     "text": "Train for 500 steps, validate for 2 steps\nEpoch 1/10\n500/500 [==============================] - 5s 10ms/step - loss: 1.7504 - accuracy: 0.7164 - val_loss: 1.7095 - val_accuracy: 0.7578\nEpoch 2/10\n500/500 [==============================] - 3s 6ms/step - loss: 1.7196 - accuracy: 0.7417 - val_loss: 1.7136 - val_accuracy: 0.7461\nEpoch 3/10\n500/500 [==============================] - 3s 6ms/step - loss: 1.6982 - accuracy: 0.7626 - val_loss: 1.6558 - val_accuracy: 0.8047\nEpoch 4/10\n500/500 [==============================] - 3s 6ms/step - loss: 1.6732 - accuracy: 0.7876 - val_loss: 1.7067 - val_accuracy: 0.7539\nEpoch 5/10\n500/500 [==============================] - 3s 6ms/step - loss: 1.6651 - accuracy: 0.7956 - val_loss: 1.6878 - val_accuracy: 0.7734\nEpoch 6/10\n500/500 [==============================] - 3s 6ms/step - loss: 1.6588 - accuracy: 0.8021 - val_loss: 1.6958 - val_accuracy: 0.7617\nEpoch 7/10\n500/500 [==============================] - 3s 6ms/step - loss: 1.6582 - accuracy: 0.8026 - val_loss: 1.6910 - val_accuracy: 0.7695\nEpoch 8/10\n500/500 [==============================] - 3s 6ms/step - loss: 1.6526 - accuracy: 0.8081 - val_loss: 1.6510 - val_accuracy: 0.8125\nEpoch 9/10\n500/500 [==============================] - 3s 6ms/step - loss: 1.6516 - accuracy: 0.8092 - val_loss: 1.6581 - val_accuracy: 0.8047\nEpoch 10/10\n500/500 [==============================] - 3s 6ms/step - loss: 1.6090 - accuracy: 0.8518 - val_loss: 1.6274 - val_accuracy: 0.8281\n"
    }
   ],
   "source": [
    "model.compile(\n",
    "    optimizer='adam',\n",
    "    loss=tf.losses.CategoricalCrossentropy(from_logits=True),\n",
    "    metrics=['accuracy']\n",
    ")\n",
    "\n",
    "history = model.fit(\n",
    "    train_ds.repeat(),\n",
    "    epochs=10,\n",
    "    steps_per_epoch=500,\n",
    "    validation_data=val_ds.repeat(),\n",
    "    validation_steps=2\n",
    ")"
   ]
  },
  {
   "cell_type": "code",
   "execution_count": 23,
   "metadata": {
    "tags": []
   },
   "outputs": [
    {
     "output_type": "stream",
     "name": "stdout",
     "text": "10.4\n"
    }
   ],
   "source": [
    "predictions = model.predict(val_ds)\n",
    "best_predictions = [i.argmax() for i in predictions]\n",
    "correct = 0\n",
    "for i in range(len(best_predictions)):\n",
    "    if best_predictions[i] == y_val[i]:\n",
    "        correct += 1\n",
    "print(correct/len(y_val)*100)"
   ]
  },
  {
   "cell_type": "code",
   "execution_count": 24,
   "metadata": {},
   "outputs": [],
   "source": [
    "model.save('fashion_mnist(10.4).h5')"
   ]
  }
 ]
}