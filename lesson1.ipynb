{
 "metadata": {
  "language_info": {
   "codemirror_mode": {
    "name": "ipython",
    "version": 3
   },
   "file_extension": ".py",
   "mimetype": "text/x-python",
   "name": "python",
   "nbconvert_exporter": "python",
   "pygments_lexer": "ipython3",
   "version": "3.7.4-final"
  },
  "orig_nbformat": 2,
  "kernelspec": {
   "name": "python_defaultSpec_1607473068037",
   "display_name": "Python 3.7.4 64-bit ('base': conda)"
  }
 },
 "nbformat": 4,
 "nbformat_minor": 2,
 "cells": [
  {
   "cell_type": "code",
   "execution_count": 1,
   "metadata": {
    "tags": []
   },
   "outputs": [
    {
     "output_type": "stream",
     "name": "stderr",
     "text": "Using TensorFlow backend.\n"
    }
   ],
   "source": [
    "import keras\n",
    "import tensorflow as tf\n",
    "import numpy as np"
   ]
  },
  {
   "cell_type": "code",
   "execution_count": 2,
   "metadata": {},
   "outputs": [],
   "source": [
    "lin_reg = keras.Sequential([\n",
    "    keras.layers.Dense(1,activation='linear', input_shape = [1]),\n",
    "])\n",
    "\n",
    "optimizer = tf.keras.optimizers.RMSprop(0.001)\n",
    "\n",
    "lin_reg.compile(\n",
    "    loss='mse',\n",
    "    optimizer=optimizer,\n",
    "    metrics=['mse']\n",
    ")"
   ]
  },
  {
   "cell_type": "code",
   "execution_count": 8,
   "metadata": {},
   "outputs": [],
   "source": [
    "data = np.array([\n",
    "  [4,2],\n",
    "  [4,10],\n",
    "  [7,4],\n",
    "  [7,22],\n",
    "  [8,16],\n",
    "  [9,10],\n",
    "  [10,18],\n",
    "  [10,26],\n",
    "  [10,34],\n",
    "  [11,17],\n",
    "  [11,28],\n",
    "  [12,14],\n",
    "  [12,20],\n",
    "  [12,24],\n",
    "  [12,28],\n",
    "  [13,26],\n",
    "  [13,34],\n",
    "  [13,34],\n",
    "  [13,46],\n",
    "  [14,26],\n",
    "  [14,36],\n",
    "  [14,60],\n",
    "  [14,80],\n",
    "  [15,20],\n",
    "  [15,26],\n",
    "  [15,54],\n",
    "  [16,32],\n",
    "  [16,40],\n",
    "  [17,32],\n",
    "  [17,40],\n",
    "  [17,50],\n",
    "  [18,42],\n",
    "  [18,56],\n",
    "  [18,76],\n",
    "  [18,84],\n",
    "  [19,36],\n",
    "  [19,46],\n",
    "  [19,68],\n",
    "  [20,32],\n",
    "  [20,48],\n",
    "  [20,52],\n",
    "  [20,56],\n",
    "  [20,64],\n",
    "  [22,66],\n",
    "  [23,54],\n",
    "  [24,70],\n",
    "  [24,92],\n",
    "  [24,93],\n",
    "  [24,120],\n",
    "  [25,85]\n",
    "])"
   ]
  },
  {
   "cell_type": "code",
   "execution_count": 10,
   "metadata": {
    "tags": []
   },
   "outputs": [],
   "source": [
    "speed = data[:,0]\n",
    "distance = data[:,1]"
   ]
  },
  {
   "cell_type": "code",
   "execution_count": 11,
   "metadata": {},
   "outputs": [],
   "source": [
    "history = lin_reg.fit(\n",
    "    x=speed,\n",
    "    y = distance,\n",
    "    shuffle=True,\n",
    "    epochs=1000,\n",
    "    validation_split=0.2,\n",
    "    verbose=0\n",
    ")"
   ]
  },
  {
   "cell_type": "code",
   "execution_count": 16,
   "metadata": {},
   "outputs": [
    {
     "output_type": "display_data",
     "data": {
      "text/plain": "<Figure size 432x288 with 1 Axes>",
      "image/svg+xml": "<?xml version=\"1.0\" encoding=\"utf-8\" standalone=\"no\"?>\n<!DOCTYPE svg PUBLIC \"-//W3C//DTD SVG 1.1//EN\"\n  \"http://www.w3.org/Graphics/SVG/1.1/DTD/svg11.dtd\">\n<!-- Created with matplotlib (https://matplotlib.org/) -->\n<svg height=\"248.518125pt\" version=\"1.1\" viewBox=\"0 0 375.2875 248.518125\" width=\"375.2875pt\" xmlns=\"http://www.w3.org/2000/svg\" xmlns:xlink=\"http://www.w3.org/1999/xlink\">\n <defs>\n  <style type=\"text/css\">\n*{stroke-linecap:butt;stroke-linejoin:round;}\n  </style>\n </defs>\n <g id=\"figure_1\">\n  <g id=\"patch_1\">\n   <path d=\"M 0 248.518125 \nL 375.2875 248.518125 \nL 375.2875 0 \nL 0 0 \nz\n\" style=\"fill:none;\"/>\n  </g>\n  <g id=\"axes_1\">\n   <g id=\"patch_2\">\n    <path d=\"M 33.2875 224.64 \nL 368.0875 224.64 \nL 368.0875 7.2 \nL 33.2875 7.2 \nz\n\" style=\"fill:#ffffff;\"/>\n   </g>\n   <g id=\"PathCollection_1\">\n    <defs>\n     <path d=\"M 0 3 \nC 0.795609 3 1.55874 2.683901 2.12132 2.12132 \nC 2.683901 1.55874 3 0.795609 3 0 \nC 3 -0.795609 2.683901 -1.55874 2.12132 -2.12132 \nC 1.55874 -2.683901 0.795609 -3 0 -3 \nC -0.795609 -3 -1.55874 -2.683901 -2.12132 -2.12132 \nC -2.683901 -1.55874 -3 -0.795609 -3 0 \nC -3 0.795609 -2.683901 1.55874 -2.12132 2.12132 \nC -1.55874 2.683901 -0.795609 3 0 3 \nz\n\" id=\"m5076420b38\" style=\"stroke:#1f77b4;\"/>\n    </defs>\n    <g clip-path=\"url(#peee8cd678a)\">\n     <use style=\"fill:#1f77b4;stroke:#1f77b4;\" x=\"48.505682\" xlink:href=\"#m5076420b38\" y=\"214.756364\"/>\n     <use style=\"fill:#1f77b4;stroke:#1f77b4;\" x=\"48.505682\" xlink:href=\"#m5076420b38\" y=\"201.354823\"/>\n     <use style=\"fill:#1f77b4;stroke:#1f77b4;\" x=\"91.986201\" xlink:href=\"#m5076420b38\" y=\"211.405978\"/>\n     <use style=\"fill:#1f77b4;stroke:#1f77b4;\" x=\"91.986201\" xlink:href=\"#m5076420b38\" y=\"181.252512\"/>\n     <use style=\"fill:#1f77b4;stroke:#1f77b4;\" x=\"106.479708\" xlink:href=\"#m5076420b38\" y=\"191.303667\"/>\n     <use style=\"fill:#1f77b4;stroke:#1f77b4;\" x=\"120.973214\" xlink:href=\"#m5076420b38\" y=\"201.354823\"/>\n     <use style=\"fill:#1f77b4;stroke:#1f77b4;\" x=\"135.466721\" xlink:href=\"#m5076420b38\" y=\"187.953282\"/>\n     <use style=\"fill:#1f77b4;stroke:#1f77b4;\" x=\"135.466721\" xlink:href=\"#m5076420b38\" y=\"174.551741\"/>\n     <use style=\"fill:#1f77b4;stroke:#1f77b4;\" x=\"135.466721\" xlink:href=\"#m5076420b38\" y=\"161.1502\"/>\n     <use style=\"fill:#1f77b4;stroke:#1f77b4;\" x=\"149.960227\" xlink:href=\"#m5076420b38\" y=\"189.628475\"/>\n     <use style=\"fill:#1f77b4;stroke:#1f77b4;\" x=\"149.960227\" xlink:href=\"#m5076420b38\" y=\"171.201356\"/>\n     <use style=\"fill:#1f77b4;stroke:#1f77b4;\" x=\"164.453734\" xlink:href=\"#m5076420b38\" y=\"194.654052\"/>\n     <use style=\"fill:#1f77b4;stroke:#1f77b4;\" x=\"164.453734\" xlink:href=\"#m5076420b38\" y=\"184.602897\"/>\n     <use style=\"fill:#1f77b4;stroke:#1f77b4;\" x=\"164.453734\" xlink:href=\"#m5076420b38\" y=\"177.902126\"/>\n     <use style=\"fill:#1f77b4;stroke:#1f77b4;\" x=\"164.453734\" xlink:href=\"#m5076420b38\" y=\"171.201356\"/>\n     <use style=\"fill:#1f77b4;stroke:#1f77b4;\" x=\"178.94724\" xlink:href=\"#m5076420b38\" y=\"174.551741\"/>\n     <use style=\"fill:#1f77b4;stroke:#1f77b4;\" x=\"178.94724\" xlink:href=\"#m5076420b38\" y=\"161.1502\"/>\n     <use style=\"fill:#1f77b4;stroke:#1f77b4;\" x=\"178.94724\" xlink:href=\"#m5076420b38\" y=\"161.1502\"/>\n     <use style=\"fill:#1f77b4;stroke:#1f77b4;\" x=\"178.94724\" xlink:href=\"#m5076420b38\" y=\"141.047889\"/>\n     <use style=\"fill:#1f77b4;stroke:#1f77b4;\" x=\"193.440747\" xlink:href=\"#m5076420b38\" y=\"174.551741\"/>\n     <use style=\"fill:#1f77b4;stroke:#1f77b4;\" x=\"193.440747\" xlink:href=\"#m5076420b38\" y=\"157.799815\"/>\n     <use style=\"fill:#1f77b4;stroke:#1f77b4;\" x=\"193.440747\" xlink:href=\"#m5076420b38\" y=\"117.595193\"/>\n     <use style=\"fill:#1f77b4;stroke:#1f77b4;\" x=\"193.440747\" xlink:href=\"#m5076420b38\" y=\"84.091341\"/>\n     <use style=\"fill:#1f77b4;stroke:#1f77b4;\" x=\"207.934253\" xlink:href=\"#m5076420b38\" y=\"184.602897\"/>\n     <use style=\"fill:#1f77b4;stroke:#1f77b4;\" x=\"207.934253\" xlink:href=\"#m5076420b38\" y=\"174.551741\"/>\n     <use style=\"fill:#1f77b4;stroke:#1f77b4;\" x=\"207.934253\" xlink:href=\"#m5076420b38\" y=\"127.646348\"/>\n     <use style=\"fill:#1f77b4;stroke:#1f77b4;\" x=\"222.42776\" xlink:href=\"#m5076420b38\" y=\"164.500586\"/>\n     <use style=\"fill:#1f77b4;stroke:#1f77b4;\" x=\"222.42776\" xlink:href=\"#m5076420b38\" y=\"151.099045\"/>\n     <use style=\"fill:#1f77b4;stroke:#1f77b4;\" x=\"236.921266\" xlink:href=\"#m5076420b38\" y=\"164.500586\"/>\n     <use style=\"fill:#1f77b4;stroke:#1f77b4;\" x=\"236.921266\" xlink:href=\"#m5076420b38\" y=\"151.099045\"/>\n     <use style=\"fill:#1f77b4;stroke:#1f77b4;\" x=\"236.921266\" xlink:href=\"#m5076420b38\" y=\"134.347119\"/>\n     <use style=\"fill:#1f77b4;stroke:#1f77b4;\" x=\"251.414773\" xlink:href=\"#m5076420b38\" y=\"147.748659\"/>\n     <use style=\"fill:#1f77b4;stroke:#1f77b4;\" x=\"251.414773\" xlink:href=\"#m5076420b38\" y=\"124.295963\"/>\n     <use style=\"fill:#1f77b4;stroke:#1f77b4;\" x=\"251.414773\" xlink:href=\"#m5076420b38\" y=\"90.792111\"/>\n     <use style=\"fill:#1f77b4;stroke:#1f77b4;\" x=\"251.414773\" xlink:href=\"#m5076420b38\" y=\"77.39057\"/>\n     <use style=\"fill:#1f77b4;stroke:#1f77b4;\" x=\"265.908279\" xlink:href=\"#m5076420b38\" y=\"157.799815\"/>\n     <use style=\"fill:#1f77b4;stroke:#1f77b4;\" x=\"265.908279\" xlink:href=\"#m5076420b38\" y=\"141.047889\"/>\n     <use style=\"fill:#1f77b4;stroke:#1f77b4;\" x=\"265.908279\" xlink:href=\"#m5076420b38\" y=\"104.193652\"/>\n     <use style=\"fill:#1f77b4;stroke:#1f77b4;\" x=\"280.401786\" xlink:href=\"#m5076420b38\" y=\"164.500586\"/>\n     <use style=\"fill:#1f77b4;stroke:#1f77b4;\" x=\"280.401786\" xlink:href=\"#m5076420b38\" y=\"137.697504\"/>\n     <use style=\"fill:#1f77b4;stroke:#1f77b4;\" x=\"280.401786\" xlink:href=\"#m5076420b38\" y=\"130.996733\"/>\n     <use style=\"fill:#1f77b4;stroke:#1f77b4;\" x=\"280.401786\" xlink:href=\"#m5076420b38\" y=\"124.295963\"/>\n     <use style=\"fill:#1f77b4;stroke:#1f77b4;\" x=\"280.401786\" xlink:href=\"#m5076420b38\" y=\"110.894422\"/>\n     <use style=\"fill:#1f77b4;stroke:#1f77b4;\" x=\"309.388799\" xlink:href=\"#m5076420b38\" y=\"107.544037\"/>\n     <use style=\"fill:#1f77b4;stroke:#1f77b4;\" x=\"323.882305\" xlink:href=\"#m5076420b38\" y=\"127.646348\"/>\n     <use style=\"fill:#1f77b4;stroke:#1f77b4;\" x=\"338.375812\" xlink:href=\"#m5076420b38\" y=\"100.843267\"/>\n     <use style=\"fill:#1f77b4;stroke:#1f77b4;\" x=\"338.375812\" xlink:href=\"#m5076420b38\" y=\"63.989029\"/>\n     <use style=\"fill:#1f77b4;stroke:#1f77b4;\" x=\"338.375812\" xlink:href=\"#m5076420b38\" y=\"62.313837\"/>\n     <use style=\"fill:#1f77b4;stroke:#1f77b4;\" x=\"338.375812\" xlink:href=\"#m5076420b38\" y=\"17.083636\"/>\n     <use style=\"fill:#1f77b4;stroke:#1f77b4;\" x=\"352.869318\" xlink:href=\"#m5076420b38\" y=\"75.715378\"/>\n    </g>\n   </g>\n   <g id=\"matplotlib.axis_1\">\n    <g id=\"xtick_1\">\n     <g id=\"line2d_1\">\n      <defs>\n       <path d=\"M 0 0 \nL 0 3.5 \n\" id=\"mb61c96307e\" style=\"stroke:#000000;stroke-width:0.8;\"/>\n      </defs>\n      <g>\n       <use style=\"stroke:#000000;stroke-width:0.8;\" x=\"62.999188\" xlink:href=\"#mb61c96307e\" y=\"224.64\"/>\n      </g>\n     </g>\n     <g id=\"text_1\">\n      <!-- 5 -->\n      <defs>\n       <path d=\"M 10.796875 72.90625 \nL 49.515625 72.90625 \nL 49.515625 64.59375 \nL 19.828125 64.59375 \nL 19.828125 46.734375 \nQ 21.96875 47.46875 24.109375 47.828125 \nQ 26.265625 48.1875 28.421875 48.1875 \nQ 40.625 48.1875 47.75 41.5 \nQ 54.890625 34.8125 54.890625 23.390625 \nQ 54.890625 11.625 47.5625 5.09375 \nQ 40.234375 -1.421875 26.90625 -1.421875 \nQ 22.3125 -1.421875 17.546875 -0.640625 \nQ 12.796875 0.140625 7.71875 1.703125 \nL 7.71875 11.625 \nQ 12.109375 9.234375 16.796875 8.0625 \nQ 21.484375 6.890625 26.703125 6.890625 \nQ 35.15625 6.890625 40.078125 11.328125 \nQ 45.015625 15.765625 45.015625 23.390625 \nQ 45.015625 31 40.078125 35.4375 \nQ 35.15625 39.890625 26.703125 39.890625 \nQ 22.75 39.890625 18.8125 39.015625 \nQ 14.890625 38.140625 10.796875 36.28125 \nz\n\" id=\"DejaVuSans-53\"/>\n      </defs>\n      <g transform=\"translate(59.817938 239.238438)scale(0.1 -0.1)\">\n       <use xlink:href=\"#DejaVuSans-53\"/>\n      </g>\n     </g>\n    </g>\n    <g id=\"xtick_2\">\n     <g id=\"line2d_2\">\n      <g>\n       <use style=\"stroke:#000000;stroke-width:0.8;\" x=\"135.466721\" xlink:href=\"#mb61c96307e\" y=\"224.64\"/>\n      </g>\n     </g>\n     <g id=\"text_2\">\n      <!-- 10 -->\n      <defs>\n       <path d=\"M 12.40625 8.296875 \nL 28.515625 8.296875 \nL 28.515625 63.921875 \nL 10.984375 60.40625 \nL 10.984375 69.390625 \nL 28.421875 72.90625 \nL 38.28125 72.90625 \nL 38.28125 8.296875 \nL 54.390625 8.296875 \nL 54.390625 0 \nL 12.40625 0 \nz\n\" id=\"DejaVuSans-49\"/>\n       <path d=\"M 31.78125 66.40625 \nQ 24.171875 66.40625 20.328125 58.90625 \nQ 16.5 51.421875 16.5 36.375 \nQ 16.5 21.390625 20.328125 13.890625 \nQ 24.171875 6.390625 31.78125 6.390625 \nQ 39.453125 6.390625 43.28125 13.890625 \nQ 47.125 21.390625 47.125 36.375 \nQ 47.125 51.421875 43.28125 58.90625 \nQ 39.453125 66.40625 31.78125 66.40625 \nz\nM 31.78125 74.21875 \nQ 44.046875 74.21875 50.515625 64.515625 \nQ 56.984375 54.828125 56.984375 36.375 \nQ 56.984375 17.96875 50.515625 8.265625 \nQ 44.046875 -1.421875 31.78125 -1.421875 \nQ 19.53125 -1.421875 13.0625 8.265625 \nQ 6.59375 17.96875 6.59375 36.375 \nQ 6.59375 54.828125 13.0625 64.515625 \nQ 19.53125 74.21875 31.78125 74.21875 \nz\n\" id=\"DejaVuSans-48\"/>\n      </defs>\n      <g transform=\"translate(129.104221 239.238438)scale(0.1 -0.1)\">\n       <use xlink:href=\"#DejaVuSans-49\"/>\n       <use x=\"63.623047\" xlink:href=\"#DejaVuSans-48\"/>\n      </g>\n     </g>\n    </g>\n    <g id=\"xtick_3\">\n     <g id=\"line2d_3\">\n      <g>\n       <use style=\"stroke:#000000;stroke-width:0.8;\" x=\"207.934253\" xlink:href=\"#mb61c96307e\" y=\"224.64\"/>\n      </g>\n     </g>\n     <g id=\"text_3\">\n      <!-- 15 -->\n      <g transform=\"translate(201.571753 239.238438)scale(0.1 -0.1)\">\n       <use xlink:href=\"#DejaVuSans-49\"/>\n       <use x=\"63.623047\" xlink:href=\"#DejaVuSans-53\"/>\n      </g>\n     </g>\n    </g>\n    <g id=\"xtick_4\">\n     <g id=\"line2d_4\">\n      <g>\n       <use style=\"stroke:#000000;stroke-width:0.8;\" x=\"280.401786\" xlink:href=\"#mb61c96307e\" y=\"224.64\"/>\n      </g>\n     </g>\n     <g id=\"text_4\">\n      <!-- 20 -->\n      <defs>\n       <path d=\"M 19.1875 8.296875 \nL 53.609375 8.296875 \nL 53.609375 0 \nL 7.328125 0 \nL 7.328125 8.296875 \nQ 12.9375 14.109375 22.625 23.890625 \nQ 32.328125 33.6875 34.8125 36.53125 \nQ 39.546875 41.84375 41.421875 45.53125 \nQ 43.3125 49.21875 43.3125 52.78125 \nQ 43.3125 58.59375 39.234375 62.25 \nQ 35.15625 65.921875 28.609375 65.921875 \nQ 23.96875 65.921875 18.8125 64.3125 \nQ 13.671875 62.703125 7.8125 59.421875 \nL 7.8125 69.390625 \nQ 13.765625 71.78125 18.9375 73 \nQ 24.125 74.21875 28.421875 74.21875 \nQ 39.75 74.21875 46.484375 68.546875 \nQ 53.21875 62.890625 53.21875 53.421875 \nQ 53.21875 48.921875 51.53125 44.890625 \nQ 49.859375 40.875 45.40625 35.40625 \nQ 44.1875 33.984375 37.640625 27.21875 \nQ 31.109375 20.453125 19.1875 8.296875 \nz\n\" id=\"DejaVuSans-50\"/>\n      </defs>\n      <g transform=\"translate(274.039286 239.238438)scale(0.1 -0.1)\">\n       <use xlink:href=\"#DejaVuSans-50\"/>\n       <use x=\"63.623047\" xlink:href=\"#DejaVuSans-48\"/>\n      </g>\n     </g>\n    </g>\n    <g id=\"xtick_5\">\n     <g id=\"line2d_5\">\n      <g>\n       <use style=\"stroke:#000000;stroke-width:0.8;\" x=\"352.869318\" xlink:href=\"#mb61c96307e\" y=\"224.64\"/>\n      </g>\n     </g>\n     <g id=\"text_5\">\n      <!-- 25 -->\n      <g transform=\"translate(346.506818 239.238438)scale(0.1 -0.1)\">\n       <use xlink:href=\"#DejaVuSans-50\"/>\n       <use x=\"63.623047\" xlink:href=\"#DejaVuSans-53\"/>\n      </g>\n     </g>\n    </g>\n   </g>\n   <g id=\"matplotlib.axis_2\">\n    <g id=\"ytick_1\">\n     <g id=\"line2d_6\">\n      <defs>\n       <path d=\"M 0 0 \nL -3.5 0 \n\" id=\"mfe04035d43\" style=\"stroke:#000000;stroke-width:0.8;\"/>\n      </defs>\n      <g>\n       <use style=\"stroke:#000000;stroke-width:0.8;\" x=\"33.2875\" xlink:href=\"#mfe04035d43\" y=\"218.106749\"/>\n      </g>\n     </g>\n     <g id=\"text_6\">\n      <!-- 0 -->\n      <g transform=\"translate(19.925 221.905968)scale(0.1 -0.1)\">\n       <use xlink:href=\"#DejaVuSans-48\"/>\n      </g>\n     </g>\n    </g>\n    <g id=\"ytick_2\">\n     <g id=\"line2d_7\">\n      <g>\n       <use style=\"stroke:#000000;stroke-width:0.8;\" x=\"33.2875\" xlink:href=\"#mfe04035d43\" y=\"184.602897\"/>\n      </g>\n     </g>\n     <g id=\"text_7\">\n      <!-- 20 -->\n      <g transform=\"translate(13.5625 188.402116)scale(0.1 -0.1)\">\n       <use xlink:href=\"#DejaVuSans-50\"/>\n       <use x=\"63.623047\" xlink:href=\"#DejaVuSans-48\"/>\n      </g>\n     </g>\n    </g>\n    <g id=\"ytick_3\">\n     <g id=\"line2d_8\">\n      <g>\n       <use style=\"stroke:#000000;stroke-width:0.8;\" x=\"33.2875\" xlink:href=\"#mfe04035d43\" y=\"151.099045\"/>\n      </g>\n     </g>\n     <g id=\"text_8\">\n      <!-- 40 -->\n      <defs>\n       <path d=\"M 37.796875 64.3125 \nL 12.890625 25.390625 \nL 37.796875 25.390625 \nz\nM 35.203125 72.90625 \nL 47.609375 72.90625 \nL 47.609375 25.390625 \nL 58.015625 25.390625 \nL 58.015625 17.1875 \nL 47.609375 17.1875 \nL 47.609375 0 \nL 37.796875 0 \nL 37.796875 17.1875 \nL 4.890625 17.1875 \nL 4.890625 26.703125 \nz\n\" id=\"DejaVuSans-52\"/>\n      </defs>\n      <g transform=\"translate(13.5625 154.898263)scale(0.1 -0.1)\">\n       <use xlink:href=\"#DejaVuSans-52\"/>\n       <use x=\"63.623047\" xlink:href=\"#DejaVuSans-48\"/>\n      </g>\n     </g>\n    </g>\n    <g id=\"ytick_4\">\n     <g id=\"line2d_9\">\n      <g>\n       <use style=\"stroke:#000000;stroke-width:0.8;\" x=\"33.2875\" xlink:href=\"#mfe04035d43\" y=\"117.595193\"/>\n      </g>\n     </g>\n     <g id=\"text_9\">\n      <!-- 60 -->\n      <defs>\n       <path d=\"M 33.015625 40.375 \nQ 26.375 40.375 22.484375 35.828125 \nQ 18.609375 31.296875 18.609375 23.390625 \nQ 18.609375 15.53125 22.484375 10.953125 \nQ 26.375 6.390625 33.015625 6.390625 \nQ 39.65625 6.390625 43.53125 10.953125 \nQ 47.40625 15.53125 47.40625 23.390625 \nQ 47.40625 31.296875 43.53125 35.828125 \nQ 39.65625 40.375 33.015625 40.375 \nz\nM 52.59375 71.296875 \nL 52.59375 62.3125 \nQ 48.875 64.0625 45.09375 64.984375 \nQ 41.3125 65.921875 37.59375 65.921875 \nQ 27.828125 65.921875 22.671875 59.328125 \nQ 17.53125 52.734375 16.796875 39.40625 \nQ 19.671875 43.65625 24.015625 45.921875 \nQ 28.375 48.1875 33.59375 48.1875 \nQ 44.578125 48.1875 50.953125 41.515625 \nQ 57.328125 34.859375 57.328125 23.390625 \nQ 57.328125 12.15625 50.6875 5.359375 \nQ 44.046875 -1.421875 33.015625 -1.421875 \nQ 20.359375 -1.421875 13.671875 8.265625 \nQ 6.984375 17.96875 6.984375 36.375 \nQ 6.984375 53.65625 15.1875 63.9375 \nQ 23.390625 74.21875 37.203125 74.21875 \nQ 40.921875 74.21875 44.703125 73.484375 \nQ 48.484375 72.75 52.59375 71.296875 \nz\n\" id=\"DejaVuSans-54\"/>\n      </defs>\n      <g transform=\"translate(13.5625 121.394411)scale(0.1 -0.1)\">\n       <use xlink:href=\"#DejaVuSans-54\"/>\n       <use x=\"63.623047\" xlink:href=\"#DejaVuSans-48\"/>\n      </g>\n     </g>\n    </g>\n    <g id=\"ytick_5\">\n     <g id=\"line2d_10\">\n      <g>\n       <use style=\"stroke:#000000;stroke-width:0.8;\" x=\"33.2875\" xlink:href=\"#mfe04035d43\" y=\"84.091341\"/>\n      </g>\n     </g>\n     <g id=\"text_10\">\n      <!-- 80 -->\n      <defs>\n       <path d=\"M 31.78125 34.625 \nQ 24.75 34.625 20.71875 30.859375 \nQ 16.703125 27.09375 16.703125 20.515625 \nQ 16.703125 13.921875 20.71875 10.15625 \nQ 24.75 6.390625 31.78125 6.390625 \nQ 38.8125 6.390625 42.859375 10.171875 \nQ 46.921875 13.96875 46.921875 20.515625 \nQ 46.921875 27.09375 42.890625 30.859375 \nQ 38.875 34.625 31.78125 34.625 \nz\nM 21.921875 38.8125 \nQ 15.578125 40.375 12.03125 44.71875 \nQ 8.5 49.078125 8.5 55.328125 \nQ 8.5 64.0625 14.71875 69.140625 \nQ 20.953125 74.21875 31.78125 74.21875 \nQ 42.671875 74.21875 48.875 69.140625 \nQ 55.078125 64.0625 55.078125 55.328125 \nQ 55.078125 49.078125 51.53125 44.71875 \nQ 48 40.375 41.703125 38.8125 \nQ 48.828125 37.15625 52.796875 32.3125 \nQ 56.78125 27.484375 56.78125 20.515625 \nQ 56.78125 9.90625 50.3125 4.234375 \nQ 43.84375 -1.421875 31.78125 -1.421875 \nQ 19.734375 -1.421875 13.25 4.234375 \nQ 6.78125 9.90625 6.78125 20.515625 \nQ 6.78125 27.484375 10.78125 32.3125 \nQ 14.796875 37.15625 21.921875 38.8125 \nz\nM 18.3125 54.390625 \nQ 18.3125 48.734375 21.84375 45.5625 \nQ 25.390625 42.390625 31.78125 42.390625 \nQ 38.140625 42.390625 41.71875 45.5625 \nQ 45.3125 48.734375 45.3125 54.390625 \nQ 45.3125 60.0625 41.71875 63.234375 \nQ 38.140625 66.40625 31.78125 66.40625 \nQ 25.390625 66.40625 21.84375 63.234375 \nQ 18.3125 60.0625 18.3125 54.390625 \nz\n\" id=\"DejaVuSans-56\"/>\n      </defs>\n      <g transform=\"translate(13.5625 87.890559)scale(0.1 -0.1)\">\n       <use xlink:href=\"#DejaVuSans-56\"/>\n       <use x=\"63.623047\" xlink:href=\"#DejaVuSans-48\"/>\n      </g>\n     </g>\n    </g>\n    <g id=\"ytick_6\">\n     <g id=\"line2d_11\">\n      <g>\n       <use style=\"stroke:#000000;stroke-width:0.8;\" x=\"33.2875\" xlink:href=\"#mfe04035d43\" y=\"50.587488\"/>\n      </g>\n     </g>\n     <g id=\"text_11\">\n      <!-- 100 -->\n      <g transform=\"translate(7.2 54.386707)scale(0.1 -0.1)\">\n       <use xlink:href=\"#DejaVuSans-49\"/>\n       <use x=\"63.623047\" xlink:href=\"#DejaVuSans-48\"/>\n       <use x=\"127.246094\" xlink:href=\"#DejaVuSans-48\"/>\n      </g>\n     </g>\n    </g>\n    <g id=\"ytick_7\">\n     <g id=\"line2d_12\">\n      <g>\n       <use style=\"stroke:#000000;stroke-width:0.8;\" x=\"33.2875\" xlink:href=\"#mfe04035d43\" y=\"17.083636\"/>\n      </g>\n     </g>\n     <g id=\"text_12\">\n      <!-- 120 -->\n      <g transform=\"translate(7.2 20.882855)scale(0.1 -0.1)\">\n       <use xlink:href=\"#DejaVuSans-49\"/>\n       <use x=\"63.623047\" xlink:href=\"#DejaVuSans-50\"/>\n       <use x=\"127.246094\" xlink:href=\"#DejaVuSans-48\"/>\n      </g>\n     </g>\n    </g>\n   </g>\n   <g id=\"line2d_13\">\n    <path clip-path=\"url(#peee8cd678a)\" d=\"M 48.505682 199.60686 \nL 48.505682 199.60686 \nL 91.986201 187.992298 \nL 91.986201 187.992298 \nL 106.479708 184.120777 \nL 120.973214 180.249255 \nL 135.466721 176.377733 \nL 135.466721 176.377733 \nL 135.466721 176.377733 \nL 149.960227 172.506212 \nL 149.960227 172.506212 \nL 164.453734 168.634693 \nL 164.453734 168.634693 \nL 164.453734 168.634693 \nL 164.453734 168.634693 \nL 178.94724 164.763171 \nL 178.94724 164.763171 \nL 178.94724 164.763171 \nL 178.94724 164.763171 \nL 193.440747 160.891647 \nL 193.440747 160.891647 \nL 193.440747 160.891647 \nL 193.440747 160.891647 \nL 207.934253 157.020122 \nL 207.934253 157.020122 \nL 207.934253 157.020122 \nL 222.42776 153.148603 \nL 222.42776 153.148603 \nL 236.921266 149.277085 \nL 236.921266 149.277085 \nL 236.921266 149.277085 \nL 251.414773 145.40556 \nL 251.414773 145.40556 \nL 251.414773 145.40556 \nL 251.414773 145.40556 \nL 265.908279 141.534042 \nL 265.908279 141.534042 \nL 265.908279 141.534042 \nL 280.401786 137.662517 \nL 280.401786 137.662517 \nL 280.401786 137.662517 \nL 280.401786 137.662517 \nL 280.401786 137.662517 \nL 309.388799 129.919473 \nL 323.882305 126.047955 \nL 338.375812 122.176436 \nL 338.375812 122.176436 \nL 338.375812 122.176436 \nL 338.375812 122.176436 \nL 352.869318 118.304912 \n\" style=\"fill:none;stroke:#ff0000;stroke-linecap:square;stroke-width:1.5;\"/>\n   </g>\n   <g id=\"patch_3\">\n    <path d=\"M 33.2875 224.64 \nL 33.2875 7.2 \n\" style=\"fill:none;stroke:#000000;stroke-linecap:square;stroke-linejoin:miter;stroke-width:0.8;\"/>\n   </g>\n   <g id=\"patch_4\">\n    <path d=\"M 368.0875 224.64 \nL 368.0875 7.2 \n\" style=\"fill:none;stroke:#000000;stroke-linecap:square;stroke-linejoin:miter;stroke-width:0.8;\"/>\n   </g>\n   <g id=\"patch_5\">\n    <path d=\"M 33.2875 224.64 \nL 368.0875 224.64 \n\" style=\"fill:none;stroke:#000000;stroke-linecap:square;stroke-linejoin:miter;stroke-width:0.8;\"/>\n   </g>\n   <g id=\"patch_6\">\n    <path d=\"M 33.2875 7.2 \nL 368.0875 7.2 \n\" style=\"fill:none;stroke:#000000;stroke-linecap:square;stroke-linejoin:miter;stroke-width:0.8;\"/>\n   </g>\n  </g>\n </g>\n <defs>\n  <clipPath id=\"peee8cd678a\">\n   <rect height=\"217.44\" width=\"334.8\" x=\"33.2875\" y=\"7.2\"/>\n  </clipPath>\n </defs>\n</svg>\n",
      "image/png": "[encoded data removed]"
     },
     "metadata": {
      "needs_background": "light"
     }
    }
   ],
   "source": [
    "import matplotlib.pyplot as plt\n",
    "\n",
    "pred_distance = lin_reg.predict(speed)\n",
    "\n",
    "plt.plot(speed,pred_distance, color='red') \n",
    "plt.scatter(speed,distance)\n",
    "plt.show()"
   ]
  }
 ]
}