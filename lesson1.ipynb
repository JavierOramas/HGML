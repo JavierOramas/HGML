{
 "metadata": {
  "language_info": {
   "codemirror_mode": {
    "name": "ipython",
    "version": 3
   },
   "file_extension": ".py",
   "mimetype": "text/x-python",
   "name": "python",
   "nbconvert_exporter": "python",
   "pygments_lexer": "ipython3",
   "version": "3.7.4-final"
  },
  "orig_nbformat": 2,
  "kernelspec": {
   "name": "python_defaultSpec_1607473068037",
   "display_name": "Python 3.7.4 64-bit ('base': conda)"
  }
 },
 "nbformat": 4,
 "nbformat_minor": 2,
 "cells": [
  {
   "cell_type": "code",
   "execution_count": 1,
   "metadata": {
    "tags": []
   },
   "outputs": [
    {
     "output_type": "stream",
     "name": "stderr",
     "text": "Using TensorFlow backend.\n"
    }
   ],
   "source": [
    "import keras\n",
    "import tensorflow as tf\n",
    "import numpy as np"
   ]
  },
  {
   "cell_type": "code",
   "execution_count": 2,
   "metadata": {},
   "outputs": [],
   "source": [
    "lin_reg = keras.Sequential([\n",
    "    keras.layers.Dense(1,activation='linear', input_shape = [1]),\n",
    "])\n",
    "\n",
    "optimizer = tf.keras.optimizers.RMSprop(0.001)\n",
    "\n",
    "lin_reg.compile(\n",
    "    loss='mse',\n",
    "    optimizer=optimizer,\n",
    "    metrics=['mse']\n",
    ")"
   ]
  },
  {
   "cell_type": "code",
   "execution_count": 3,
   "metadata": {},
   "outputs": [],
   "source": [
    "data = tf.Tensor([\n",
    "  [4,2],\n",
    "  [4,10],\n",
    "  [7,4],\n",
    "  [7,22],\n",
    "  [8,16],\n",
    "  [9,10],\n",
    "  [10,18],\n",
    "  [10,26],\n",
    "  [10,34],\n",
    "  [11,17],\n",
    "  [11,28],\n",
    "  [12,14],\n",
    "  [12,20],\n",
    "  [12,24],\n",
    "  [12,28],\n",
    "  [13,26],\n",
    "  [13,34],\n",
    "  [13,34],\n",
    "  [13,46],\n",
    "  [14,26],\n",
    "  [14,36],\n",
    "  [14,60],\n",
    "  [14,80],\n",
    "  [15,20],\n",
    "  [15,26],\n",
    "  [15,54],\n",
    "  [16,32],\n",
    "  [16,40],\n",
    "  [17,32],\n",
    "  [17,40],\n",
    "  [17,50],\n",
    "  [18,42],\n",
    "  [18,56],\n",
    "  [18,76],\n",
    "  [18,84],\n",
    "  [19,36],\n",
    "  [19,46],\n",
    "  [19,68],\n",
    "  [20,32],\n",
    "  [20,48],\n",
    "  [20,52],\n",
    "  [20,56],\n",
    "  [20,64],\n",
    "  [22,66],\n",
    "  [23,54],\n",
    "  [24,70],\n",
    "  [24,92],\n",
    "  [24,93],\n",
    "  [24,120],\n",
    "  [25,85]\n",
    "])"
   ]
  },
  {
   "cell_type": "code",
   "execution_count": 5,
   "metadata": {
    "tags": []
   },
   "outputs": [
    {
     "output_type": "stream",
     "name": "stdout",
     "text": "[[4 2]]\n"
    }
   ],
   "source": [
    "speed = data[:1]\n",
    "print(speed)\n",
    "distance = data[1:]"
   ]
  },
  {
   "cell_type": "code",
   "execution_count": 12,
   "metadata": {},
   "outputs": [],
   "source": [
    "history = lin_reg.fit(\n",
    "    x=speed,\n",
    "    y = distance,\n",
    "    shuffle=True,\n",
    "    epochs=1000,\n",
    "    validation_split=0.2,\n",
    "    verbose=0\n",
    ")"
   ]
  },
  {
   "cell_type": "code",
   "execution_count": null,
   "metadata": {},
   "outputs": [],
   "source": [
    "import matplotlib.pyplot as plt\n",
    "\n",
    "pred_distance = lin_reg.predict(speed)\n",
    "\n",
    "plt.plot(speed,pred_distance) "
   ]
  }
 ]
}