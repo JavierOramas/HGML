{
 "metadata": {
  "language_info": {
   "codemirror_mode": {
    "name": "ipython",
    "version": 3
   },
   "file_extension": ".py",
   "mimetype": "text/x-python",
   "name": "python",
   "nbconvert_exporter": "python",
   "pygments_lexer": "ipython3",
   "version": "3.7.4-final"
  },
  "orig_nbformat": 2,
  "kernelspec": {
   "name": "python_defaultSpec_1607480832885",
   "display_name": "Python 3.7.4 64-bit ('base': conda)"
  }
 },
 "nbformat": 4,
 "nbformat_minor": 2,
 "cells": [
  {
   "cell_type": "code",
   "execution_count": 2,
   "metadata": {
    "tags": []
   },
   "outputs": [
    {
     "output_type": "stream",
     "name": "stderr",
     "text": "Using TensorFlow backend.\n"
    }
   ],
   "source": [
    "import keras\n",
    "from keras import layers\n",
    "import tensorflow as tf\n",
    "import numpy as np\n",
    "import pandas as pd"
   ]
  },
  {
   "cell_type": "code",
   "execution_count": 3,
   "metadata": {},
   "outputs": [],
   "source": [
    "lin_reg = keras.Sequential([\n",
    "    layers.Dense(1,activation='linear', input_shape = [1]),\n",
    "])\n",
    "\n",
    "optimizer = tf.keras.optimizers.RMSprop(0.001)\n",
    "\n",
    "lin_reg.compile(\n",
    "    loss='mse',\n",
    "    optimizer=optimizer,\n",
    "    metrics=['mse']\n",
    ")"
   ]
  },
  {
   "cell_type": "code",
   "execution_count": 4,
   "metadata": {},
   "outputs": [],
   "source": [
    "def plot_error(history):\n",
    "  hist = pd.DataFrame(history.history)\n",
    "  hist['epoch'] = history.epoch\n",
    "\n",
    "  plt.figure()\n",
    "  plt.xlabel('Epoch')\n",
    "  plt.ylabel('Mean Square Error')\n",
    "  plt.plot(hist['epoch'], hist['mse'],\n",
    "            label='Train Error')\n",
    "  plt.plot(hist['epoch'], hist['val_mse'],\n",
    "            label = 'Val Error')\n",
    "\n",
    "  plt.legend()\n",
    "  plt.show()"
   ]
  },
  {
   "cell_type": "code",
   "execution_count": 5,
   "metadata": {},
   "outputs": [],
   "source": [
    "data = np.array([\n",
    "  [4,2],\n",
    "  [4,10],\n",
    "  [7,4],\n",
    "  [7,22],\n",
    "  [8,16],\n",
    "  [9,10],\n",
    "  [10,18],\n",
    "  [10,26],\n",
    "  [10,34],\n",
    "  [11,17],\n",
    "  [11,28],\n",
    "  [12,14],\n",
    "  [12,20],\n",
    "  [12,24],\n",
    "  [12,28],\n",
    "  [13,26],\n",
    "  [13,34],\n",
    "  [13,34],\n",
    "  [13,46],\n",
    "  [14,26],\n",
    "  [14,36],\n",
    "  [14,60],\n",
    "  [14,80],\n",
    "  [15,20],\n",
    "  [15,26],\n",
    "  [15,54],\n",
    "  [16,32],\n",
    "  [16,40],\n",
    "  [17,32],\n",
    "  [17,40],\n",
    "  [17,50],\n",
    "  [18,42],\n",
    "  [18,56],\n",
    "  [18,76],\n",
    "  [18,84],\n",
    "  [19,36],\n",
    "  [19,46],\n",
    "  [19,68],\n",
    "  [20,32],\n",
    "  [20,48],\n",
    "  [20,52],\n",
    "  [20,56],\n",
    "  [20,64],\n",
    "  [22,66],\n",
    "  [23,54],\n",
    "  [24,70],\n",
    "  [24,92],\n",
    "  [24,93],\n",
    "  [24,120],\n",
    "  [25,85]\n",
    "])"
   ]
  },
  {
   "cell_type": "code",
   "execution_count": 6,
   "metadata": {
    "tags": []
   },
   "outputs": [],
   "source": [
    "speed = data[:,0]\n",
    "distance = data[:,1]"
   ]
  },
  {
   "cell_type": "code",
   "execution_count": 7,
   "metadata": {},
   "outputs": [],
   "source": [
    "history = lin_reg.fit(\n",
    "    x=speed,\n",
    "    y = distance,\n",
    "    shuffle=True,\n",
    "    epochs=1000,\n",
    "    validation_split=0.2,\n",
    "    verbose=0\n",
    ")"
   ]
  },
  {
   "cell_type": "code",
   "execution_count": 8,
   "metadata": {},
   "outputs": [
    {
     "output_type": "display_data",
     "data": {
      "text/plain": "<Figure size 640x480 with 1 Axes>"
     },
     "metadata": {}
    }
   ],
   "source": [
    "import matplotlib.pyplot as plt\n",
    "\n",
    "pred_distance = lin_reg.predict(speed)\n",
    "\n",
    "plt.plot(speed,pred_distance, color='red') \n",
    "plt.scatter(speed,distance)\n",
    "plt.show()"
   ]
  },
  {
   "cell_type": "code",
   "execution_count": 9,
   "metadata": {},
   "outputs": [
    {
     "output_type": "display_data",
     "data": {
      "text/plain": "<Figure size 432x288 with 1 Axes>",
      "image/png": "[encoded data removed]"
     },
     "metadata": {
      "needs_background": "light"
     }
    }
   ],
   "source": [
    "plot_error(history)"
   ]
  },
  {
   "cell_type": "code",
   "execution_count": 10,
   "metadata": {},
   "outputs": [],
   "source": [
    "def build_nn():\n",
    "    net = keras.Sequential([\n",
    "        layers.Dense(32,activation='relu', input_shape = [1]),\n",
    "        layers.Dense(16, activation='relu'),\n",
    "        layers.Dense(1),\n",
    "    ])\n",
    "\n",
    "    optimizer = tf.keras.optimizers.RMSprop(0.001)\n",
    "\n",
    "    net.compile(\n",
    "        loss='mse',\n",
    "        optimizer=optimizer,\n",
    "        metrics=['mse', 'accuracy']\n",
    "    )\n",
    "\n",
    "    return net"
   ]
  },
  {
   "cell_type": "code",
   "execution_count": 11,
   "metadata": {},
   "outputs": [],
   "source": [
    "net = build_nn()\n",
    "\n",
    "history = net.fit(\n",
    "    x = speed,\n",
    "    y = distance, \n",
    "    shuffle=True,\n",
    "    epochs=1000,\n",
    "    validation_split=0.2,\n",
    "    verbose=0\n",
    ")"
   ]
  },
  {
   "cell_type": "code",
   "execution_count": 12,
   "metadata": {},
   "outputs": [
    {
     "output_type": "display_data",
     "data": {
      "text/plain": "<Figure size 432x288 with 1 Axes>",
      "image/png": "[encoded data removed]"
     },
     "metadata": {
      "needs_background": "light"
     }
    }
   ],
   "source": [
    "net_dist = net.predict(speed)\n",
    "plt.plot(speed, net_dist, color='red')\n",
    "plt.plot(speed, pred_distance, color='orange')\n",
    "plt.scatter(speed,distance)\n",
    "\n",
    "plt.show()"
   ]
  },
  {
   "cell_type": "code",
   "execution_count": 13,
   "metadata": {},
   "outputs": [
    {
     "output_type": "display_data",
     "data": {
      "text/plain": "<Figure size 432x288 with 1 Axes>",
      "image/png": "[encoded data removed]"
     },
     "metadata": {
      "needs_background": "light"
     }
    }
   ],
   "source": [
    "plot_error(history)"
   ]
  },
  {
   "cell_type": "code",
   "execution_count": 14,
   "metadata": {},
   "outputs": [],
   "source": [
    "early_stop = keras.callbacks.EarlyStopping(\n",
    "    monitor='val_loss',\n",
    "    patience=10\n",
    ")"
   ]
  },
  {
   "cell_type": "code",
   "execution_count": 15,
   "metadata": {},
   "outputs": [],
   "source": [
    "net = build_nn()\n",
    "\n",
    "history = net.fit(\n",
    "    x= speed,\n",
    "    y= distance,\n",
    "    shuffle= True,\n",
    "    epochs= 1000,\n",
    "    validation_split= 0.2,\n",
    "    verbose= 0,\n",
    "    callbacks= [early_stop] \n",
    ")"
   ]
  },
  {
   "cell_type": "code",
   "execution_count": 16,
   "metadata": {},
   "outputs": [
    {
     "output_type": "display_data",
     "data": {
      "text/plain": "<Figure size 432x288 with 1 Axes>",
      "image/png": "[encoded data removed]"
     },
     "metadata": {
      "needs_background": "light"
     }
    }
   ],
   "source": [
    "plot_error(history)"
   ]
  },
  {
   "cell_type": "code",
   "execution_count": 17,
   "metadata": {},
   "outputs": [],
   "source": [
    "net.save('simple_nn.h5')"
   ]
  },
  {
   "cell_type": "code",
   "execution_count": 18,
   "metadata": {},
   "outputs": [],
   "source": [
    "simple_net= keras.models.load_model('simple_nn.h5')"
   ]
  },
  {
   "cell_type": "code",
   "execution_count": 19,
   "metadata": {
    "tags": []
   },
   "outputs": [
    {
     "output_type": "stream",
     "name": "stdout",
     "text": "Model: \"sequential_3\"\n_________________________________________________________________\nLayer (type)                 Output Shape              Param #   \n=================================================================\ndense_5 (Dense)              (None, 32)                64        \n_________________________________________________________________\ndense_6 (Dense)              (None, 16)                528       \n_________________________________________________________________\ndense_7 (Dense)              (None, 1)                 17        \n=================================================================\nTotal params: 609\nTrainable params: 609\nNon-trainable params: 0\n_________________________________________________________________\n"
    }
   ],
   "source": [
    "simple_net.summary()"
   ]
  }
 ]
}