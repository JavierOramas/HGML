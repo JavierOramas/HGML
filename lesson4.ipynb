{
 "metadata": {
  "language_info": {
   "codemirror_mode": {
    "name": "ipython",
    "version": 3
   },
   "file_extension": ".py",
   "mimetype": "text/x-python",
   "name": "python",
   "nbconvert_exporter": "python",
   "pygments_lexer": "ipython3",
   "version": "3.7.4-final"
  },
  "orig_nbformat": 2,
  "kernelspec": {
   "name": "python_defaultSpec_1607570828732",
   "display_name": "Python 3.7.4 64-bit ('base': conda)"
  }
 },
 "nbformat": 4,
 "nbformat_minor": 2,
 "cells": [
  {
   "cell_type": "code",
   "execution_count": 1,
   "metadata": {
    "tags": []
   },
   "outputs": [],
   "source": [
    "import pandas as pd\n",
    "import numpy as np\n",
    "import matplotlib.pyplot as plt\n",
    "from sklearn.preprocessing import StandardScaler"
   ]
  },
  {
   "cell_type": "code",
   "execution_count": 2,
   "metadata": {},
   "outputs": [],
   "source": [
    "RANDOM_SEED = 42"
   ]
  },
  {
   "cell_type": "code",
   "execution_count": 3,
   "metadata": {},
   "outputs": [
    {
     "output_type": "execute_result",
     "data": {
      "text/plain": "(398, 8)"
     },
     "metadata": {},
     "execution_count": 3
    }
   ],
   "source": [
    "auto_df = pd.read_csv(\"auto.csv\", index_col=0)\n",
    "auto_df.shape"
   ]
  },
  {
   "cell_type": "code",
   "execution_count": 4,
   "metadata": {},
   "outputs": [],
   "source": [
    "keep_columns = ['mpg', 'horsepower', 'weight', 'acceleration', 'origin']"
   ]
  },
  {
   "cell_type": "code",
   "execution_count": 5,
   "metadata": {},
   "outputs": [],
   "source": [
    "auto_df['is_american'] = (auto_df.origin == 1).astype(int)"
   ]
  },
  {
   "source": [
    "def create_regression_dataset(\n",
    "    df,\n",
    "    columns = ['mpg', 'weight', 'horsepower']\n",
    "):\n",
    "    all_columns = columns.copy()\n",
    "    all_columns.append('acceleration')\n",
    "    reg_df = df[all_columns]\n",
    "    reg_df = StandardScaler().fit_transform(reg_df[all_columns])\n",
    "    reg_df = pd.DataFrame(reg_df, columns=all_columns)\n",
    "\n",
    "    return reg_df[columns], reg_df.acceleration\n",
    "\n",
    "def create_classification_dataset(df):\n",
    "    columns = ['mpg', 'weight', 'horsepower']\n",
    "    \n",
    "    x = df[columns]\n",
    "    x = StandardScaler().fit_transform(x)\n",
    "    x = pd.DataFrame(X, columns=columns) \n",
    "\n",
    "    return x, df.is_american"
   ],
   "cell_type": "code",
   "metadata": {},
   "execution_count": 6,
   "outputs": []
  },
  {
   "cell_type": "code",
   "execution_count": 7,
   "metadata": {},
   "outputs": [],
   "source": [
    "from sklearn.model_selection import KFold, cross_val_score\n",
    "\n",
    "def eval_model(model, x,y,score):\n",
    "    cv = KFold(n_splits=10, random_state=RANDOM_SEED)\n",
    "    results = cross_val_score(model,x,y,cv=cv, scoring=score)\n",
    "    return np.abs(results.mean())\n",
    "\n",
    "def eval_classifier(model, x,y):\n",
    "    return eval_model(model, x,y, score='accuracy')\n",
    "\n",
    "def eval_regressor(model, x,y):\n",
    "    return eval_model(model,x,y,score='neg_mean_squared_error')\n"
   ]
  },
  {
   "cell_type": "code",
   "execution_count": 8,
   "metadata": {},
   "outputs": [
    {
     "output_type": "execute_result",
     "data": {
      "text/plain": "0.5534493482629231"
     },
     "metadata": {},
     "execution_count": 8
    }
   ],
   "source": [
    "from sklearn.linear_model import LinearRegression\n",
    "\n",
    "x,y = create_regression_dataset(auto_df, columns=['horsepower'])\n",
    "\n",
    "reg = LinearRegression()\n",
    "eval_regressor(reg, x,y)"
   ]
  }
 ]
}